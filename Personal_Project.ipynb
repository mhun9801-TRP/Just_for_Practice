{
 "cells": [
  {
   "cell_type": "markdown",
   "metadata": {},
   "source": [
    "import urllib.request\n",
    "url = \"http://openapi.data.go.kr/openapi/service/rest/Covid19/getCovid19InfStateJson?서비스키&pageNo=1&numOfRows=10&startCreateDt=20200310&endCreateDt=20200325&\"\n",
    "DTDD = urllib.request.urlopen(url)\n",
    "for line in DTDD:\n",
    "    line = line.strip()\n",
    "    line = line.decode('utf-8')\n",
    "    print(line)\n",
    "DTDD.close()"
   ]
  },
  {
   "cell_type": "code",
   "execution_count": null,
   "metadata": {},
   "outputs": [],
   "source": [
    "![image.png](attachment:image.png)"
   ]
  },
  {
   "cell_type": "markdown",
   "metadata": {
    "scrolled": false
   },
   "source": [
    "DTDDmatrix=[]\n",
    "\n",
    "DTDD=line.split(\"<deathCnt>\")\n",
    "\n",
    "DTDDlength=len(DTDD)\n",
    "\n",
    "for i in range(0,DTDDlength):\n",
    "    DTDDmatrix.append((DTDD[i][0:2]))\n",
    "    \n",
    "    \n",
    "    \n",
    "\n",
    "print(DTDDmatrix)\n",
    "\n",
    "DTDDmatrix.remove(\"<?\")\n",
    "\n",
    "print(DTDDmatrix)\n",
    "\n",
    "    "
   ]
  },
  {
   "cell_type": "markdown",
   "metadata": {},
   "source": [
    "\n",
    "\n",
    "['<?', '12', '12', '12', '11', '10', '10', '94', '91', '84', '81', '75', '75', '72', '67', '66', '60', '54']\n",
    "\n",
    "\n",
    "['12', '12', '12', '11', '10', '10', '94', '91', '84', '81', '75', '75', '72', '67', '66', '60', '54']"
   ]
  },
  {
   "cell_type": "markdown",
   "metadata": {},
   "source": [
    "\n",
    "DTDDday=line.split(\"<createDt>\")\n",
    "\n",
    "DTDDdaymatrix=[]\n",
    "\n",
    "DTDDdaylen=len(DTDDday)\n",
    "\n",
    "for i in range(0,DTDDdaylen):\n",
    "    DTDDdaymatrix.append(DTDDday[i][8:10])\n",
    "    \n",
    "DTDDdaymatrix.remove(\"rs\")\n",
    "\n",
    "print(DTDDdaymatrix)\n"
   ]
  },
  {
   "cell_type": "markdown",
   "metadata": {},
   "source": [
    "['25', '24', '24', '23', '22', '21', '20', '19', '18', '17', '16', '15', '14', '13', '12', '11', '10']"
   ]
  },
  {
   "cell_type": "markdown",
   "metadata": {},
   "source": [
    "\n",
    "DTDDint=[]\n",
    "A=[]\n",
    "\n",
    "for i in range(0,len(DTDDmatrix)):\n",
    "    DTDDint.append(int(DTDDmatrix[i]))\n",
    "    \n",
    "\n",
    "DTDDint.reverse()\n",
    "\n",
    "\n",
    "for i in range(0,len(DTDDdaymatrix)):\n",
    "    A.append(DTDDdaymatrix[len(DTDDdaymatrix)-(i+1)])\n",
    "    \n",
    "print(A)"
   ]
  },
  {
   "cell_type": "markdown",
   "metadata": {},
   "source": [
    "['10', '11', '12', '13', '14', '15', '16', '17', '18', '19', '20', '21', '22', '23', '24', '24', '25']\n"
   ]
  },
  {
   "cell_type": "markdown",
   "metadata": {
    "scrolled": true
   },
   "source": [
    "import matplotlib.pyplot as plt\n",
    "\n",
    "plt.plot(A,DTDDint,label=\"Death\")\n",
    "plt.xlabel(\"March\")\n",
    "\n",
    "plt.legend()\n",
    "plt.show()"
   ]
  },
  {
   "cell_type": "code",
   "execution_count": null,
   "metadata": {},
   "outputs": [],
   "source": [
    "\n",
    "![image.png](attachment:image.png)"
   ]
  }
 ],
 "metadata": {
  "kernelspec": {
   "display_name": "Python 3",
   "language": "python",
   "name": "python3"
  },
  "language_info": {
   "codemirror_mode": {
    "name": "ipython",
    "version": 3
   },
   "file_extension": ".py",
   "mimetype": "text/x-python",
   "name": "python",
   "nbconvert_exporter": "python",
   "pygments_lexer": "ipython3",
   "version": "3.7.3"
  }
 },
 "nbformat": 4,
 "nbformat_minor": 2
}
